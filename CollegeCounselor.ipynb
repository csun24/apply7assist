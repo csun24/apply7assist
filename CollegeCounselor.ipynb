{
 "cells": [
  {
   "cell_type": "code",
   "execution_count": null,
   "id": "27c4279c-7f73-41c5-93af-78cf00540477",
   "metadata": {},
   "outputs": [],
   "source": [
    "counselor_context = '''\n",
    "You are a helpful college counselor for graduate school admissions.\n",
    "You will be provided with a student’s profile.\n",
    "The student is supposed to tell you which year he/she is in. Please ask if this information is not provided.\n",
    "Take the following fact into account: accepted students at top US graduate programs have a GPA 25-75 percentile range of 3.7-3.9. \n",
    "Use the following guidelines to formulate your response:\n",
    "1. Summarize student's biggest strengths and weaknesses in concise manner.\n",
    "2. Suggest 3 key improvements ordered by potential impact.\n",
    "3. For each improvement, be concrete and provide an action plan.\n",
    "4. Include a time estimate as part of action plans.\n",
    "5. Students in senior year will have little time for more publications or internships. Tailor your response based on which year the student is in.\n",
    "6. At the end, assess the student's chance of getting into MIT for graduate school study.\n",
    "'''"
   ]
  },
  {
   "cell_type": "code",
   "execution_count": null,
   "id": "f142b4ee-3ae7-401e-861e-e2fa7bf3de2c",
   "metadata": {},
   "outputs": [],
   "source": [
    "from openai import OpenAI\n",
    " \n",
    "client = OpenAI()\n",
    " \n",
    "assistant = client.beta.assistants.create(\n",
    "    name=\"College Admission Counselor\",\n",
    "    instructions=counselor_context,\n",
    "    model=\"gpt-4o\",\n",
    "    tools=[{\"type\": \"file_search\"}],\n",
    ")"
   ]
  },
  {
   "cell_type": "code",
   "execution_count": null,
   "id": "7ec9e188-065f-47a2-821a-fb8c6671fb2a",
   "metadata": {},
   "outputs": [],
   "source": [
    "vector_store = client.beta.vector_stores.create(name=\"Resume and Score Info\")\n",
    " \n",
    "file_paths = [ \"Test Resume.pdf\", \"Test Score.pdf\"]\n",
    "file_streams = [open(path, \"rb\") for path in file_paths]\n",
    " \n",
    "file_batch = client.beta.vector_stores.file_batches.upload_and_poll(\n",
    "    vector_store_id=vector_store.id, files=file_streams\n",
    ")\n",
    " \n",
    "print(file_batch.status)\n",
    "print(file_batch.file_counts)"
   ]
  },
  {
   "cell_type": "code",
   "execution_count": null,
   "id": "4e2ab79e-1c40-4f51-8168-c29d076bcdd2",
   "metadata": {},
   "outputs": [],
   "source": [
    "assistant = client.beta.assistants.update(\n",
    "    assistant_id=assistant.id,\n",
    "    tool_resources={\"file_search\": {\"vector_store_ids\": [vector_store.id]}},\n",
    ")"
   ]
  },
  {
   "cell_type": "code",
   "execution_count": null,
   "id": "b95bef03-d473-4ee9-a40b-a49f0ed8e23a",
   "metadata": {},
   "outputs": [],
   "source": [
    "# Upload the user provided file to OpenAI\n",
    "message_file1 = client.files.create(\n",
    "    file=open(\"Test Resume.pdf\", \"rb\"), purpose=\"assistants\"\n",
    ")\n",
    "message_file2 = client.files.create(\n",
    "    file=open(\"Test Score.pdf\", \"rb\"), purpose=\"assistants\"\n",
    ")\n",
    " \n",
    "# Create a thread and attach the file to the message\n",
    "thread = client.beta.threads.create(\n",
    "    messages=[\n",
    "        {\n",
    "            \"role\": \"user\",\n",
    "            \"content\": \"My name is Jane Doe. How can I improve my chances of getting into US graduate schools?\",\n",
    "            # Attach the new file to the message.\n",
    "            \"attachments\": [\n",
    "                { \"file_id\": message_file1.id, \"tools\": [{\"type\": \"file_search\"}] },\n",
    "                { \"file_id\": message_file2.id, \"tools\": [{\"type\": \"file_search\"}] }\n",
    "            ],\n",
    "        }\n",
    "    ]\n",
    ")\n",
    " \n",
    "# The thread now has a vector store with that file in its tool resources.\n",
    "print(thread.tool_resources.file_search)"
   ]
  },
  {
   "cell_type": "code",
   "execution_count": null,
   "id": "46aa5df4-c34b-425f-80a1-1c4746fb55cb",
   "metadata": {},
   "outputs": [],
   "source": [
    "run = client.beta.threads.runs.create_and_poll(\n",
    "    thread_id=thread.id, assistant_id=assistant.id\n",
    ")\n",
    "\n",
    "messages = list(client.beta.threads.messages.list(thread_id=thread.id, run_id=run.id))\n",
    "\n",
    "message_content = messages[0].content[0].text\n",
    "annotations = message_content.annotations\n",
    "citations = []\n",
    "\n",
    "for index, annotation in enumerate(annotations):\n",
    "    message_content.value = message_content.value.replace(annotation.text, f\"[{index}]\")\n",
    "    if file_citation := getattr(annotation, \"file_citation\", None):\n",
    "        cited_file = client.files.retrieve(file_citation.file_id)\n",
    "        citations.append(f\"[{index}] {cited_file.filename}\")"
   ]
  },
  {
   "cell_type": "code",
   "execution_count": null,
   "id": "3300d11a-9aed-4c31-be09-8f792fa05fa9",
   "metadata": {},
   "outputs": [],
   "source": [
    "from IPython.display import Markdown, display\n",
    "\n",
    "display(Markdown(message_content.value))\n",
    "print(\"\\n\".join(citations))"
   ]
  },
  {
   "cell_type": "code",
   "execution_count": null,
   "id": "bb479483-5dd3-471b-8f27-506b01776423",
   "metadata": {},
   "outputs": [],
   "source": []
  },
  {
   "cell_type": "code",
   "execution_count": null,
   "id": "5104439f-0bdb-4ca0-8a65-182a9a70a350",
   "metadata": {},
   "outputs": [],
   "source": []
  },
  {
   "cell_type": "code",
   "execution_count": null,
   "id": "2ba916e8-3d0b-46a8-9864-564024119fa8",
   "metadata": {},
   "outputs": [],
   "source": []
  }
 ],
 "metadata": {
  "kernelspec": {
   "display_name": "Python 3 (ipykernel)",
   "language": "python",
   "name": "python3"
  },
  "language_info": {
   "codemirror_mode": {
    "name": "ipython",
    "version": 3
   },
   "file_extension": ".py",
   "mimetype": "text/x-python",
   "name": "python",
   "nbconvert_exporter": "python",
   "pygments_lexer": "ipython3",
   "version": "3.12.4"
  }
 },
 "nbformat": 4,
 "nbformat_minor": 5
}
